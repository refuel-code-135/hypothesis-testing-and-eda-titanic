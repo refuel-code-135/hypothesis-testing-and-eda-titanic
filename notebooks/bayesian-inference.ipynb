{
 "cells": [
  {
   "cell_type": "code",
   "execution_count": 21,
   "id": "f1c62c22-93c3-41f9-8a5c-9dd30e89788d",
   "metadata": {},
   "outputs": [],
   "source": [
    "import pandas as pd"
   ]
  },
  {
   "cell_type": "code",
   "execution_count": 22,
   "id": "5fd1b133-68d5-4d3f-95e7-a06074c88bc1",
   "metadata": {},
   "outputs": [],
   "source": [
    "df = pd.read_csv(\"../data/marketing_AB.csv\")"
   ]
  },
  {
   "cell_type": "code",
   "execution_count": 23,
   "id": "3dce99c2-203b-4548-9e73-27ee2d1f9a29",
   "metadata": {},
   "outputs": [],
   "source": [
    "def basic_eda_summary(df):\n",
    "    \"\"\"\n",
    "    Prints a basic exploratory data analysis summary of a DataFrame.\n",
    "    Includes shape, column info, missing values, data types, and simple statistics.\n",
    "    Visualization is excluded by design.\n",
    "    \"\"\"\n",
    "\n",
    "    print(\"=\" * 50)\n",
    "    print(\"BASIC EDA SUMMARY\")\n",
    "    print(\"=\" * 50)\n",
    "\n",
    "    # Shape of the DataFrame\n",
    "    print(\"\\n[1] Shape of the DataFrame:\")\n",
    "    print(f\"Rows: {df.shape[0]}, Columns: {df.shape[1]}\")\n",
    "\n",
    "    # Column names\n",
    "    print(\"\\n[2] Column Names:\")\n",
    "    print(df.columns.tolist())\n",
    "\n",
    "    # Data types and non-null counts\n",
    "    print(\"\\n[3] Data Types and Non-Null Counts:\")\n",
    "    print(df.info(memory_usage=False, verbose=True))\n",
    "\n",
    "    # Missing values per column\n",
    "    print(\"\\n[4] Missing Values (per column):\")\n",
    "    missing = df.isna().sum()\n",
    "    print(missing[missing > 0] if missing.any() else \"No missing values.\")\n",
    "\n",
    "    # Number of unique values per column\n",
    "    print(\"\\n[5] Number of Unique Values per Column:\")\n",
    "    print(df.nunique())\n",
    "\n",
    "    # Basic statistics for numeric columns\n",
    "    print(\"\\n[6] Summary Statistics (numeric columns):\")\n",
    "    print(df.describe())\n",
    "\n",
    "    print(\"\\nBasic EDA summary complete.\")\n",
    "\n",
    "def detect_categorical_candidates(df, threshold_ratio=0.05, max_display_values=5):\n",
    "    \"\"\"\n",
    "    Detects likely categorical features in a DataFrame, including:\n",
    "    - object dtype with low cardinality\n",
    "    - numeric columns with small unique value count relative to total rows\n",
    "    \"\"\"\n",
    "\n",
    "    print(\"Categorical Feature Candidates\\n\" + \"=\" * 40)\n",
    "\n",
    "    total_rows = len(df)\n",
    "\n",
    "    for col in df.columns:\n",
    "        unique_vals = df[col].nunique(dropna=False)\n",
    "        dtype = df[col].dtype\n",
    "\n",
    "        # Heuristic 1: object or category dtype with low cardinality\n",
    "        if dtype == 'object' or dtype.name == 'category':\n",
    "            print(f\"- {col} [type: {dtype}, {unique_vals} unique] — likely categorical (textual)\")\n",
    "            sample = df[col].dropna().unique()[:max_display_values]\n",
    "            print(f\"  sample values: {sample} ...\\n\")\n",
    "\n",
    "        # Heuristic 2: numeric column with low cardinality\n",
    "        elif unique_vals < total_rows * threshold_ratio:\n",
    "            print(f\"- {col} [type: {dtype}, {unique_vals} unique] — possibly categorical (numeric)\")\n",
    "            sample = df[col].dropna().unique()[:max_display_values]\n",
    "            print(f\"  sample values: {sample} ...\\n\")\n",
    "\n",
    "    print(\"Categorical detection complete.\\n\")\n"
   ]
  },
  {
   "cell_type": "code",
   "execution_count": 24,
   "id": "e3fbf511-c919-413f-9df9-87b388fabe30",
   "metadata": {},
   "outputs": [
    {
     "data": {
      "text/html": [
       "<div>\n",
       "<style scoped>\n",
       "    .dataframe tbody tr th:only-of-type {\n",
       "        vertical-align: middle;\n",
       "    }\n",
       "\n",
       "    .dataframe tbody tr th {\n",
       "        vertical-align: top;\n",
       "    }\n",
       "\n",
       "    .dataframe thead th {\n",
       "        text-align: right;\n",
       "    }\n",
       "</style>\n",
       "<table border=\"1\" class=\"dataframe\">\n",
       "  <thead>\n",
       "    <tr style=\"text-align: right;\">\n",
       "      <th></th>\n",
       "      <th>Unnamed: 0</th>\n",
       "      <th>user id</th>\n",
       "      <th>test group</th>\n",
       "      <th>converted</th>\n",
       "      <th>total ads</th>\n",
       "      <th>most ads day</th>\n",
       "      <th>most ads hour</th>\n",
       "    </tr>\n",
       "  </thead>\n",
       "  <tbody>\n",
       "    <tr>\n",
       "      <th>0</th>\n",
       "      <td>0</td>\n",
       "      <td>1069124</td>\n",
       "      <td>ad</td>\n",
       "      <td>False</td>\n",
       "      <td>130</td>\n",
       "      <td>Monday</td>\n",
       "      <td>20</td>\n",
       "    </tr>\n",
       "    <tr>\n",
       "      <th>1</th>\n",
       "      <td>1</td>\n",
       "      <td>1119715</td>\n",
       "      <td>ad</td>\n",
       "      <td>False</td>\n",
       "      <td>93</td>\n",
       "      <td>Tuesday</td>\n",
       "      <td>22</td>\n",
       "    </tr>\n",
       "    <tr>\n",
       "      <th>2</th>\n",
       "      <td>2</td>\n",
       "      <td>1144181</td>\n",
       "      <td>ad</td>\n",
       "      <td>False</td>\n",
       "      <td>21</td>\n",
       "      <td>Tuesday</td>\n",
       "      <td>18</td>\n",
       "    </tr>\n",
       "    <tr>\n",
       "      <th>3</th>\n",
       "      <td>3</td>\n",
       "      <td>1435133</td>\n",
       "      <td>ad</td>\n",
       "      <td>False</td>\n",
       "      <td>355</td>\n",
       "      <td>Tuesday</td>\n",
       "      <td>10</td>\n",
       "    </tr>\n",
       "    <tr>\n",
       "      <th>4</th>\n",
       "      <td>4</td>\n",
       "      <td>1015700</td>\n",
       "      <td>ad</td>\n",
       "      <td>False</td>\n",
       "      <td>276</td>\n",
       "      <td>Friday</td>\n",
       "      <td>14</td>\n",
       "    </tr>\n",
       "  </tbody>\n",
       "</table>\n",
       "</div>"
      ],
      "text/plain": [
       "   Unnamed: 0  user id test group  converted  total ads most ads day  \\\n",
       "0           0  1069124         ad      False        130       Monday   \n",
       "1           1  1119715         ad      False         93      Tuesday   \n",
       "2           2  1144181         ad      False         21      Tuesday   \n",
       "3           3  1435133         ad      False        355      Tuesday   \n",
       "4           4  1015700         ad      False        276       Friday   \n",
       "\n",
       "   most ads hour  \n",
       "0             20  \n",
       "1             22  \n",
       "2             18  \n",
       "3             10  \n",
       "4             14  "
      ]
     },
     "execution_count": 24,
     "metadata": {},
     "output_type": "execute_result"
    }
   ],
   "source": [
    "df.head()"
   ]
  },
  {
   "cell_type": "code",
   "execution_count": 25,
   "id": "3c84c378-6197-4e9b-a418-fd1c29ab2509",
   "metadata": {},
   "outputs": [
    {
     "name": "stdout",
     "output_type": "stream",
     "text": [
      "Categorical Feature Candidates\n",
      "========================================\n",
      "- test group [type: object, 2 unique] — likely categorical (textual)\n",
      "  sample values: ['ad' 'psa'] ...\n",
      "\n",
      "- converted [type: bool, 2 unique] — possibly categorical (numeric)\n",
      "  sample values: [False  True] ...\n",
      "\n",
      "- most ads day [type: object, 7 unique] — likely categorical (textual)\n",
      "  sample values: ['Monday' 'Tuesday' 'Friday' 'Saturday' 'Wednesday'] ...\n",
      "\n",
      "- most ads hour [type: int64, 24 unique] — possibly categorical (numeric)\n",
      "  sample values: [20 22 18 10 14] ...\n",
      "\n",
      "Categorical detection complete.\n",
      "\n",
      "==================================================\n",
      "BASIC EDA SUMMARY\n",
      "==================================================\n",
      "\n",
      "[1] Shape of the DataFrame:\n",
      "Rows: 588101, Columns: 7\n",
      "\n",
      "[2] Column Names:\n",
      "['Unnamed: 0', 'user id', 'test group', 'converted', 'total ads', 'most ads day', 'most ads hour']\n",
      "\n",
      "[3] Data Types and Non-Null Counts:\n",
      "<class 'pandas.core.frame.DataFrame'>\n",
      "RangeIndex: 588101 entries, 0 to 588100\n",
      "Data columns (total 7 columns):\n",
      " #   Column         Non-Null Count   Dtype \n",
      "---  ------         --------------   ----- \n",
      " 0   Unnamed: 0     588101 non-null  int64 \n",
      " 1   user id        588101 non-null  int64 \n",
      " 2   test group     588101 non-null  object\n",
      " 3   converted      588101 non-null  bool  \n",
      " 4   total ads      588101 non-null  int64 \n",
      " 5   most ads day   588101 non-null  object\n",
      " 6   most ads hour  588101 non-null  int64 \n",
      "dtypes: bool(1), int64(4), object(2)None\n",
      "\n",
      "[4] Missing Values (per column):\n",
      "No missing values.\n",
      "\n",
      "[5] Number of Unique Values per Column:\n",
      "Unnamed: 0       588101\n",
      "user id          588101\n",
      "test group            2\n",
      "converted             2\n",
      "total ads           807\n",
      "most ads day          7\n",
      "most ads hour        24\n",
      "dtype: int64\n",
      "\n",
      "[6] Summary Statistics (numeric columns):\n",
      "          Unnamed: 0       user id      total ads  most ads hour\n",
      "count  588101.000000  5.881010e+05  588101.000000  588101.000000\n",
      "mean   294050.000000  1.310692e+06      24.820876      14.469061\n",
      "std    169770.279668  2.022260e+05      43.715181       4.834634\n",
      "min         0.000000  9.000000e+05       1.000000       0.000000\n",
      "25%    147025.000000  1.143190e+06       4.000000      11.000000\n",
      "50%    294050.000000  1.313725e+06      13.000000      14.000000\n",
      "75%    441075.000000  1.484088e+06      27.000000      18.000000\n",
      "max    588100.000000  1.654483e+06    2065.000000      23.000000\n",
      "\n",
      "Basic EDA summary complete.\n"
     ]
    }
   ],
   "source": [
    "detect_categorical_candidates(df,threshold_ratio=0.001)\n",
    "basic_eda_summary(df)"
   ]
  },
  {
   "cell_type": "code",
   "execution_count": 4,
   "id": "42ea2e5f-32f0-4c18-9f03-7274a57b4da4",
   "metadata": {},
   "outputs": [],
   "source": [
    "df = df.drop(columns=['Unnamed: 0'])\n",
    "\n",
    "# パーセンタイル境界を計算\n",
    "q33 = df['total ads'].quantile(0.33)\n",
    "q66 = df['total ads'].quantile(0.66)\n",
    "\n",
    "# カテゴリを追加（ラベルは medium にしてます）\n",
    "def make_classify_ads(x):\n",
    "    if x <= q33:\n",
    "        return 'light'\n",
    "    elif x <= q66:\n",
    "        return 'medium'\n",
    "    else:\n",
    "        return 'heavy'\n",
    "\n",
    "df['user_segment'] = df['total ads'].apply(make_classify_ads)\n"
   ]
  },
  {
   "cell_type": "code",
   "execution_count": 8,
   "id": "e806c92a-2964-4b4e-babc-ea782c12cf7a",
   "metadata": {},
   "outputs": [],
   "source": [
    "df['day_type'] = df['most ads day'].apply(lambda x: 'weekend' if x in ['Saturday', 'Sunday'] else 'weekday')\n",
    "\n",
    "def classify_hour(x):\n",
    "    if 5 <= x < 12:\n",
    "        return 'morning'\n",
    "    elif 12 <= x < 18:\n",
    "        return 'afternoon'\n",
    "    else:\n",
    "        return 'evening'\n",
    "\n",
    "df['time_segment'] = df['most ads hour'].apply(classify_hour)\n",
    "\n"
   ]
  },
  {
   "cell_type": "code",
   "execution_count": 5,
   "id": "a1b741e9-391c-446c-b008-ab4e518ec47e",
   "metadata": {},
   "outputs": [],
   "source": [
    "group_ad = df[df['test group'] == 'ad']['converted'].astype(float).dropna()\n",
    "group_psa = df[df['test group'] == 'psa']['converted'].astype(float).dropna()\n"
   ]
  },
  {
   "cell_type": "code",
   "execution_count": 11,
   "id": "6f8ff970-0d69-4e29-919e-32c38c564158",
   "metadata": {},
   "outputs": [
    {
     "data": {
      "text/plain": [
       "day_type  test group\n",
       "weekday   ad            0.026564\n",
       "          psa           0.018004\n",
       "weekend   ad            0.022999\n",
       "          psa           0.017407\n",
       "Name: converted, dtype: float64"
      ]
     },
     "execution_count": 11,
     "metadata": {},
     "output_type": "execute_result"
    }
   ],
   "source": [
    "df.groupby(['day_type', 'test group'])['converted'].mean()\n"
   ]
  },
  {
   "cell_type": "code",
   "execution_count": 10,
   "id": "6fcf5c1c-ac56-41bd-860c-1b3a3a9305d0",
   "metadata": {},
   "outputs": [
    {
     "data": {
      "text/plain": [
       "time_segment  test group\n",
       "afternoon     ad            0.027668\n",
       "              psa           0.020158\n",
       "evening       ad            0.025978\n",
       "              psa           0.018659\n",
       "morning       ad            0.021163\n",
       "              psa           0.012522\n",
       "Name: converted, dtype: float64"
      ]
     },
     "execution_count": 10,
     "metadata": {},
     "output_type": "execute_result"
    }
   ],
   "source": [
    "df.groupby(['time_segment', 'test group'])['converted'].mean()\n"
   ]
  },
  {
   "cell_type": "code",
   "execution_count": 6,
   "id": "6cff67bd-4814-42fa-bc35-6906824e0841",
   "metadata": {
    "scrolled": true
   },
   "outputs": [
    {
     "data": {
      "text/plain": [
       "user_segment\n",
       "light     201232\n",
       "heavy     199842\n",
       "medium    187027\n",
       "Name: count, dtype: int64"
      ]
     },
     "execution_count": 6,
     "metadata": {},
     "output_type": "execute_result"
    }
   ],
   "source": [
    "df['user_segment'].value_counts()\n"
   ]
  },
  {
   "cell_type": "code",
   "execution_count": null,
   "id": "74464398-baac-4881-8f77-9ef364f5ca30",
   "metadata": {},
   "outputs": [],
   "source": []
  },
  {
   "cell_type": "code",
   "execution_count": 9,
   "id": "8c9e2f37-289a-4900-82a6-3fb16bad1fe0",
   "metadata": {},
   "outputs": [
    {
     "data": {
      "text/plain": [
       "time_segment  test group\n",
       "afternoon     ad            0.027668\n",
       "              psa           0.020158\n",
       "evening       ad            0.025978\n",
       "              psa           0.018659\n",
       "morning       ad            0.021163\n",
       "              psa           0.012522\n",
       "Name: converted, dtype: float64"
      ]
     },
     "execution_count": 9,
     "metadata": {},
     "output_type": "execute_result"
    }
   ],
   "source": [
    "df.groupby(['time_segment', 'test group'])['converted'].mean()\n"
   ]
  },
  {
   "cell_type": "code",
   "execution_count": 7,
   "id": "506fd465-ff00-48a5-a821-2534e7ea0f9c",
   "metadata": {},
   "outputs": [
    {
     "data": {
      "text/plain": [
       "user_segment  test group\n",
       "heavy         ad            0.065577\n",
       "              psa           0.042109\n",
       "light         ad            0.002579\n",
       "              psa           0.003033\n",
       "medium        ad            0.007496\n",
       "              psa           0.007972\n",
       "Name: converted, dtype: float64"
      ]
     },
     "execution_count": 7,
     "metadata": {},
     "output_type": "execute_result"
    }
   ],
   "source": [
    "df.groupby(['user_segment', 'test group'])['converted'].mean()\n"
   ]
  },
  {
   "cell_type": "code",
   "execution_count": 30,
   "id": "3ddf70d6-8f41-472f-9bd3-a10019a811c5",
   "metadata": {},
   "outputs": [
    {
     "name": "stdout",
     "output_type": "stream",
     "text": [
      "<class 'pandas.core.frame.DataFrame'>\n",
      "RangeIndex: 588101 entries, 0 to 588100\n",
      "Data columns (total 7 columns):\n",
      " #   Column         Non-Null Count   Dtype \n",
      "---  ------         --------------   ----- \n",
      " 0   user id        588101 non-null  int64 \n",
      " 1   test group     588101 non-null  object\n",
      " 2   converted      588101 non-null  bool  \n",
      " 3   total ads      588101 non-null  int64 \n",
      " 4   most ads day   588101 non-null  object\n",
      " 5   most ads hour  588101 non-null  int64 \n",
      " 6   user_segment   588101 non-null  object\n",
      "dtypes: bool(1), int64(3), object(3)\n",
      "memory usage: 27.5+ MB\n"
     ]
    },
    {
     "data": {
      "text/plain": [
       "np.float64(0.02523886203220195)"
      ]
     },
     "execution_count": 30,
     "metadata": {},
     "output_type": "execute_result"
    }
   ],
   "source": [
    "df.info()\n",
    "df['test group'].value_counts()\n",
    "df['converted'].mean()\n"
   ]
  },
  {
   "cell_type": "code",
   "execution_count": 31,
   "id": "6f7d270d-c50e-4573-82e2-e4662a6f303b",
   "metadata": {},
   "outputs": [
    {
     "data": {
      "text/plain": [
       "test group\n",
       "ad     0.025547\n",
       "psa    0.017854\n",
       "Name: converted, dtype: float64"
      ]
     },
     "execution_count": 31,
     "metadata": {},
     "output_type": "execute_result"
    }
   ],
   "source": [
    "df.groupby('test group')['converted'].mean()\n"
   ]
  },
  {
   "cell_type": "code",
   "execution_count": 32,
   "id": "cb04d77e-4a91-4cf0-8e8b-c87c30e57171",
   "metadata": {},
   "outputs": [
    {
     "data": {
      "text/html": [
       "<div>\n",
       "<style scoped>\n",
       "    .dataframe tbody tr th:only-of-type {\n",
       "        vertical-align: middle;\n",
       "    }\n",
       "\n",
       "    .dataframe tbody tr th {\n",
       "        vertical-align: top;\n",
       "    }\n",
       "\n",
       "    .dataframe thead th {\n",
       "        text-align: right;\n",
       "    }\n",
       "</style>\n",
       "<table border=\"1\" class=\"dataframe\">\n",
       "  <thead>\n",
       "    <tr style=\"text-align: right;\">\n",
       "      <th></th>\n",
       "      <th>user id</th>\n",
       "      <th>test group</th>\n",
       "      <th>converted</th>\n",
       "      <th>total ads</th>\n",
       "      <th>most ads day</th>\n",
       "      <th>most ads hour</th>\n",
       "      <th>user_segment</th>\n",
       "    </tr>\n",
       "  </thead>\n",
       "  <tbody>\n",
       "    <tr>\n",
       "      <th>0</th>\n",
       "      <td>1069124</td>\n",
       "      <td>ad</td>\n",
       "      <td>False</td>\n",
       "      <td>130</td>\n",
       "      <td>Monday</td>\n",
       "      <td>20</td>\n",
       "      <td>heavy</td>\n",
       "    </tr>\n",
       "    <tr>\n",
       "      <th>1</th>\n",
       "      <td>1119715</td>\n",
       "      <td>ad</td>\n",
       "      <td>False</td>\n",
       "      <td>93</td>\n",
       "      <td>Tuesday</td>\n",
       "      <td>22</td>\n",
       "      <td>heavy</td>\n",
       "    </tr>\n",
       "    <tr>\n",
       "      <th>2</th>\n",
       "      <td>1144181</td>\n",
       "      <td>ad</td>\n",
       "      <td>False</td>\n",
       "      <td>21</td>\n",
       "      <td>Tuesday</td>\n",
       "      <td>18</td>\n",
       "      <td>heavy</td>\n",
       "    </tr>\n",
       "    <tr>\n",
       "      <th>3</th>\n",
       "      <td>1435133</td>\n",
       "      <td>ad</td>\n",
       "      <td>False</td>\n",
       "      <td>355</td>\n",
       "      <td>Tuesday</td>\n",
       "      <td>10</td>\n",
       "      <td>heavy</td>\n",
       "    </tr>\n",
       "    <tr>\n",
       "      <th>4</th>\n",
       "      <td>1015700</td>\n",
       "      <td>ad</td>\n",
       "      <td>False</td>\n",
       "      <td>276</td>\n",
       "      <td>Friday</td>\n",
       "      <td>14</td>\n",
       "      <td>heavy</td>\n",
       "    </tr>\n",
       "  </tbody>\n",
       "</table>\n",
       "</div>"
      ],
      "text/plain": [
       "   user id test group  converted  total ads most ads day  most ads hour  \\\n",
       "0  1069124         ad      False        130       Monday             20   \n",
       "1  1119715         ad      False         93      Tuesday             22   \n",
       "2  1144181         ad      False         21      Tuesday             18   \n",
       "3  1435133         ad      False        355      Tuesday             10   \n",
       "4  1015700         ad      False        276       Friday             14   \n",
       "\n",
       "  user_segment  \n",
       "0        heavy  \n",
       "1        heavy  \n",
       "2        heavy  \n",
       "3        heavy  \n",
       "4        heavy  "
      ]
     },
     "execution_count": 32,
     "metadata": {},
     "output_type": "execute_result"
    }
   ],
   "source": [
    "df.head()"
   ]
  },
  {
   "cell_type": "code",
   "execution_count": 12,
   "id": "f9e24899-de09-410d-a692-e545a505b614",
   "metadata": {},
   "outputs": [
    {
     "name": "stdout",
     "output_type": "stream",
     "text": [
      "Light Users → t = -0.7637, p = 0.4450\n",
      "Medium Users → t = -0.4252, p = 0.6707\n"
     ]
    }
   ],
   "source": [
    "from scipy.stats import ttest_ind\n",
    "\n",
    "for seg in ['light', 'medium']:\n",
    "    group_ad = df[(df['user_segment'] == seg) & (df['test group'] == 'ad')]['converted'].astype(float)\n",
    "    group_psa = df[(df['user_segment'] == seg) & (df['test group'] == 'psa')]['converted'].astype(float)\n",
    "\n",
    "    t_stat, p_value = ttest_ind(group_ad, group_psa, equal_var=False)\n",
    "    print(f\"{seg.capitalize()} Users → t = {t_stat:.4f}, p = {p_value:.4f}\")\n"
   ]
  },
  {
   "cell_type": "markdown",
   "id": "21b35d3d-c465-4057-9c3b-a84b59146fc6",
   "metadata": {},
   "source": [
    "# Welch's t-test"
   ]
  },
  {
   "cell_type": "code",
   "execution_count": 11,
   "id": "0cc24584-d209-4ae8-8052-3bd2b94c0def",
   "metadata": {},
   "outputs": [
    {
     "name": "stdout",
     "output_type": "stream",
     "text": [
      "T統計量 = 8.6572\n",
      "p値 = 0.000000\n"
     ]
    }
   ],
   "source": [
    "from scipy.stats import ttest_ind\n",
    "\n",
    "t_stat, p_value = ttest_ind(group_ad, group_psa, equal_var=False)\n",
    "\n",
    "print(f\"T統計量 = {t_stat:.4f}\")\n",
    "print(f\"p値 = {p_value:.6f}\")"
   ]
  },
  {
   "cell_type": "code",
   "execution_count": 12,
   "id": "3ef9b747-4cfc-4bcc-ac4c-35e685bae9b4",
   "metadata": {},
   "outputs": [
    {
     "name": "stdout",
     "output_type": "stream",
     "text": [
      "Cohen's d = 0.0528\n"
     ]
    }
   ],
   "source": [
    "import numpy as np\n",
    "\n",
    "# 各群の平均と標準偏差\n",
    "mean_ad = group_ad.mean()\n",
    "mean_psa = group_psa.mean()\n",
    "std_ad = group_ad.std()\n",
    "std_psa = group_psa.std()\n",
    "n_ad = group_ad.shape[0]\n",
    "n_psa = group_psa.shape[0]\n",
    "\n",
    "# Welch用の効果量（標準偏差の重み付き平均）\n",
    "s = np.sqrt(((std_ad ** 2) + (std_psa ** 2)) / 2)\n",
    "\n",
    "# Cohen's d 計算\n",
    "cohen_d = (mean_ad - mean_psa) / s\n",
    "\n",
    "print(f\"Cohen's d = {cohen_d:.4f}\")\n"
   ]
  },
  {
   "cell_type": "markdown",
   "id": "f8e3d46e-47f6-43a0-a03a-dad247a5fb9f",
   "metadata": {},
   "source": [
    "# ベイズ"
   ]
  },
  {
   "cell_type": "code",
   "execution_count": 13,
   "id": "a2b20808-6909-4f8e-aebb-bfe994cb985a",
   "metadata": {},
   "outputs": [],
   "source": [
    "# 成功数（converted == True）と全体数\n",
    "success_ad = group_ad.sum()\n",
    "total_ad = len(group_ad)\n",
    "\n",
    "success_psa = group_psa.sum()\n",
    "total_psa = len(group_psa)\n"
   ]
  },
  {
   "cell_type": "code",
   "execution_count": 14,
   "id": "14dbbdac-5cd9-4c37-9922-cc38258b480d",
   "metadata": {},
   "outputs": [],
   "source": [
    "import numpy as np\n",
    "\n",
    "# ベータ分布（事後分布：成功+1, 失敗+1）\n",
    "samples_ad = np.random.beta(success_ad + 1, total_ad - success_ad + 1, 10000)\n",
    "samples_psa = np.random.beta(success_psa + 1, total_psa - success_psa + 1, 10000)\n"
   ]
  },
  {
   "cell_type": "code",
   "execution_count": 15,
   "id": "2f9ebabb-270f-4b74-ad08-a77804de317f",
   "metadata": {},
   "outputs": [
    {
     "name": "stdout",
     "output_type": "stream",
     "text": [
      "adがpsaより高いCVRである確率 = 1.0000\n"
     ]
    }
   ],
   "source": [
    "prob_ad_better = (samples_ad > samples_psa).mean()\n",
    "\n",
    "print(f\"adがpsaより高いCVRである確率 = {prob_ad_better:.4f}\")\n"
   ]
  },
  {
   "cell_type": "code",
   "execution_count": 18,
   "id": "88286233-3763-4868-afac-a0e50efba754",
   "metadata": {},
   "outputs": [
    {
     "data": {
      "image/png": "[encoded data removed]",
      "text/plain": [
       "<Figure size 640x480 with 1 Axes>"
      ]
     },
     "metadata": {},
     "output_type": "display_data"
    }
   ],
   "source": [
    "import matplotlib.pyplot as plt\n",
    "\n",
    "diff = samples_ad - samples_psa\n",
    "\n",
    "plt.hist(diff, bins=50, alpha=0.7)\n",
    "plt.axvline(0, color='red', linestyle='--')\n",
    "plt.title(\"Posterior Distribution of CVR Difference (ad - psa)\")\n",
    "plt.xlabel(\"Difference in Conversion Rate\")\n",
    "plt.ylabel(\"Frequency\")\n",
    "plt.show()\n"
   ]
  },
  {
   "cell_type": "code",
   "execution_count": 19,
   "id": "05de36f6-832f-41d9-a94c-f9e4cfae2a1d",
   "metadata": {},
   "outputs": [
    {
     "name": "stdout",
     "output_type": "stream",
     "text": [
      "Mean CVR difference: 0.7649%\n",
      "95% credible interval: [0.5909%, 0.9319%]\n"
     ]
    }
   ],
   "source": [
    "# 95%信用区間\n",
    "lower, upper = np.percentile(diff, [2.5, 97.5])\n",
    "mean_diff = diff.mean()\n",
    "\n",
    "print(f\"Mean CVR difference: {mean_diff:.4%}\")\n",
    "print(f\"95% credible interval: [{lower:.4%}, {upper:.4%}]\")\n"
   ]
  },
  {
   "cell_type": "code",
   "execution_count": null,
   "id": "f6913d86-2b28-4f00-a5a3-a01b833b34c5",
   "metadata": {},
   "outputs": [],
   "source": []
  }
 ],
 "metadata": {
  "kernelspec": {
   "display_name": "Python 3 (ipykernel)",
   "language": "python",
   "name": "python3"
  },
  "language_info": {
   "codemirror_mode": {
    "name": "ipython",
    "version": 3
   },
   "file_extension": ".py",
   "mimetype": "text/x-python",
   "name": "python",
   "nbconvert_exporter": "python",
   "pygments_lexer": "ipython3",
   "version": "3.10.16"
  }
 },
 "nbformat": 4,
 "nbformat_minor": 5
}
